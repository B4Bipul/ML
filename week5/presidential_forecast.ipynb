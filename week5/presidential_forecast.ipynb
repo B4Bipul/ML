{
 "cells": [
  {
   "cell_type": "code",
   "execution_count": null,
   "metadata": {},
   "outputs": [],
   "source": [
    "import pyro\n",
    "import pyro.distributions as dist\n",
    "from pyro.distributions import constraints\n",
    "from pyro.infer import NUTS, MCMC, Predictive\n",
    "from pyro.optim import Adam\n",
    "import pandas as pd\n",
    "import torch\n",
    "from tqdm import tqdm\n",
    "import us\n",
    "import seaborn as sns\n",
    "import matplotlib.pyplot as plt \n",
    "import matplotlib.ticker as ticker\n",
    "import numpy as np\n",
    "import re"
   ]
  },
  {
   "cell_type": "code",
   "execution_count": null,
   "metadata": {},
   "outputs": [],
   "source": [
    "presidential_forecast = pd.read_csv('../data/presidential_forecast/presidential_forecast.tsv', sep='\\s*\\t')\n",
    "presidential_forecast"
   ]
  },
  {
   "cell_type": "code",
   "execution_count": null,
   "metadata": {},
   "outputs": [],
   "source": [
    "region_info = pd.read_csv('../data/presidential_forecast/region_info.tsv', sep='\\s*\\t')\n",
    "region_info"
   ]
  },
  {
   "cell_type": "code",
   "execution_count": null,
   "metadata": {},
   "outputs": [],
   "source": [
    "combined = pd.merge(presidential_forecast, region_info, on='state')\n",
    "combined = combined.dropna()\n",
    "combined"
   ]
  },
  {
   "cell_type": "code",
   "execution_count": null,
   "metadata": {},
   "outputs": [],
   "source": [
    "years = combined['year'].unique()\n",
    "regions = combined['region'].unique()\n",
    "num_years = len(years)\n",
    "num_regions = len(regions)\n",
    "year_map = {year: i for i, year in enumerate(sorted(years))}\n",
    "region_map = {region: i for i, region in enumerate(sorted(regions))}\n",
    "(num_years, num_regions, year_map, region_map)"
   ]
  },
  {
   "cell_type": "code",
   "execution_count": null,
   "metadata": {},
   "outputs": [],
   "source": [
    "tcombined = [{k: torch.from_numpy(np.vectorize(lambda x: year_map.get(x, region_map.get(x, x)))(v.values))\n",
    "             for k, v in combined[combined['year'] == year].iteritems()} for year in sorted(years)]\n",
    "tcombined"
   ]
  },
  {
   "cell_type": "code",
   "execution_count": null,
   "metadata": {},
   "outputs": [],
   "source": [
    "train_data = tcombined[:-1]\n",
    "test_data = tcombined[-1:]"
   ]
  },
  {
   "cell_type": "code",
   "execution_count": null,
   "metadata": {},
   "outputs": [],
   "source": [
    "def model(year_data):\n",
    "    # TODO: Write model"
   ]
  },
  {
   "cell_type": "code",
   "execution_count": null,
   "metadata": {},
   "outputs": [],
   "source": [
    "samples = ... # TODO Run NUTS and replace ... with the samples"
   ]
  },
  {
   "cell_type": "code",
   "execution_count": null,
   "metadata": {},
   "outputs": [],
   "source": [
    "predictive = Predictive(model, {k: samples[k] for k in {'beta', 'sigma', 'tau_gamma', 'tau_delta'}})\n",
    "predicted_y = predictive.forward([{k: v for k, v in dt.items() if k != 'Dvote'} for dt in test_data])['y_11']\n",
    "predicted_y_mean = predicted_y.mean(axis=0)\n",
    "predicted_y_var = predicted_y.var(axis=0)\n",
    "(predicted_y_mean, predicted_y_var, (predicted_y_mean - test_data[0]['Dvote']).abs())"
   ]
  },
  {
   "cell_type": "code",
   "execution_count": null,
   "metadata": {},
   "outputs": [],
   "source": [
    "plt.violinplot(predicted_y.transpose(0, 1))\n",
    "plt.show()"
   ]
  },
  {
   "cell_type": "code",
   "execution_count": null,
   "metadata": {},
   "outputs": [],
   "source": []
  }
 ],
 "metadata": {
  "language_info": {
   "codemirror_mode": {
    "name": "ipython",
    "version": 3
   },
   "file_extension": ".py",
   "mimetype": "text/x-python",
   "name": "python",
   "nbconvert_exporter": "python",
   "pygments_lexer": "ipython3",
   "version": "3.8.3-final"
  },
  "orig_nbformat": 2,
  "kernelspec": {
   "name": "python38364bitdeepprobprogcourseconda071e3aac92a944639a759a069eba10f1",
   "display_name": "Python 3.8.3 64-bit ('deep-probprog-course': conda)"
  }
 },
 "nbformat": 4,
 "nbformat_minor": 2
}