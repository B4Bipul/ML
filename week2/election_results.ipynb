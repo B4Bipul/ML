{
 "cells": [
  {
   "cell_type": "code",
   "execution_count": null,
   "metadata": {},
   "outputs": [],
   "source": [
    "import pyro\n",
    "import pyro.distributions as dist\n",
    "from pyro.distributions import constraints\n",
    "from pyro.infer import SVI, JitTrace_ELBO\n",
    "from pyro.optim import Adam\n",
    "import pandas as pd\n",
    "import torch\n",
    "from tqdm import tqdm\n",
    "import us\n",
    "import seaborn as sns\n",
    "import matplotlib.pyplot as plt \n",
    "import numpy as np\n",
    "from scipy.optimize import root\n",
    "pyro.enable_validation()"
   ]
  },
  {
   "cell_type": "markdown",
   "metadata": {},
   "source": [
    "## Load and graph data"
   ]
  },
  {
   "cell_type": "code",
   "execution_count": null,
   "metadata": {},
   "outputs": [],
   "source": [
    "voter_survey = pd.read_stata('../data/election_results/pew_research_center_june_elect_wknd_data.dta',\n",
    "               columns=['state', 'ideo'])\n",
    "voter_survey['state'] = voter_survey['state'].map(us.states.lookup)\n",
    "voter_survey = voter_survey.dropna()\n",
    "voter_survey['state'] = voter_survey['state'].map(lambda st: st.abbr)\n",
    "voter_survey"
   ]
  },
  {
   "cell_type": "code",
   "execution_count": null,
   "metadata": {},
   "outputs": [],
   "source": [
    "election_results = pd.read_csv('../data/election_results/2008ElectionResult.csv', usecols=['state', 'vote_Obama_pct'], sep=r'\\s*,\\s*')\n",
    "election_results['state'] = election_results['state'].map(lambda st: us.states.lookup(st).abbr)\n",
    "election_results"
   ]
  },
  {
   "cell_type": "code",
   "execution_count": null,
   "metadata": {},
   "outputs": [],
   "source": [
    "voter_survey_total = voter_survey.groupby('state').count().rename(columns={'ideo': 'total'})\n",
    "voter_survey_very_liberal = voter_survey[voter_survey['ideo'] == 'very liberal'].groupby('state').count().rename(columns={'ideo': 'very_liberal'})\n",
    "voter_survey_stat = pd.merge(voter_survey_total, voter_survey_very_liberal, on='state')\n",
    "voter_survey_stat['very_liberal_pct'] = 100 * voter_survey_stat['very_liberal'] / voter_survey_stat['total']\n",
    "voter_survey_stat = voter_survey_stat.round(1)"
   ]
  },
  {
   "cell_type": "code",
   "execution_count": null,
   "metadata": {},
   "outputs": [],
   "source": [
    "combined = pd.merge(election_results, voter_survey_stat, on='state')\n",
    "combined"
   ]
  },
  {
   "cell_type": "code",
   "execution_count": null,
   "metadata": {},
   "outputs": [],
   "source": [
    "p1 = sns.scatterplot('very_liberal_pct', 'vote_Obama_pct', data=combined)\n",
    "for line in range(0,combined.shape[0]):\n",
    "     p1.text(combined['very_liberal_pct'][line]+0.01, combined['vote_Obama_pct'][line], \n",
    "     combined['state'][line], horizontalalignment='left', \n",
    "     size='medium', color='black', weight='semibold')\n",
    "plt.xlim(0, 12.)\n",
    "plt.ylim(30, 70)\n",
    "plt.xlabel('very liberal (%)')\n",
    "plt.ylabel('Obama vote (%)')\n",
    "plt.show()"
   ]
  },
  {
   "cell_type": "markdown",
   "metadata": {},
   "source": [
    "## Calculate Prior Parameters"
   ]
  },
  {
   "cell_type": "code",
   "execution_count": null,
   "metadata": {},
   "outputs": [],
   "source": [
    "total = torch.from_numpy(combined['total'].to_numpy())\n",
    "very_liberal = torch.from_numpy(combined['very_liberal'].to_numpy())\n",
    "(total, very_liberal)"
   ]
  },
  {
   "cell_type": "code",
   "execution_count": null,
   "metadata": {},
   "outputs": [],
   "source": [
    "very_liberal_mean = (combined['very_liberal_pct']  / 100.0).mean()\n",
    "very_liberal_var = (combined['very_liberal_pct'] / 100.0).var() "
   ]
  },
  {
   "cell_type": "code",
   "execution_count": null,
   "metadata": {},
   "outputs": [],
   "source": [
    "conc1 = very_liberal_mean * ((very_liberal_mean) * (1 - very_liberal_mean) / very_liberal_var - 1)\n",
    "conc0 = conc1 * (1 - very_liberal_mean) / very_liberal_mean\n",
    "(conc1, conc0)"
   ]
  },
  {
   "cell_type": "markdown",
   "metadata": {},
   "source": [
    "## Inference"
   ]
  },
  {
   "cell_type": "code",
   "execution_count": null,
   "metadata": {},
   "outputs": [],
   "source": [
    "def model(total, very_liberal):\n",
    "    with pyro.plate('data', total.size(0)):\n",
    "        pass # TODO: Write Model"
   ]
  },
  {
   "cell_type": "code",
   "execution_count": null,
   "metadata": {},
   "outputs": [],
   "source": [
    "def guide(total, very_liberal):\n",
    "    with pyro.plate('data', total.size(0)):\n",
    "        pass # TODO: Write Guide"
   ]
  },
  {
   "cell_type": "code",
   "execution_count": null,
   "metadata": {
    "tags": []
   },
   "outputs": [],
   "source": [
    "svi = SVI(model, guide, Adam({'lr': 0.1}), JitTrace_ELBO(3))\n",
    "pbar = tqdm(range(1000))\n",
    "for i in pbar:\n",
    "    loss = svi.step(total, very_liberal)\n",
    "    pbar.set_description(f\"Loss: {loss}\")"
   ]
  },
  {
   "cell_type": "code",
   "execution_count": null,
   "metadata": {},
   "outputs": [],
   "source": [
    "posterior_mean = ... # TODO: Replace ... with posterior mean\n",
    "posterior_mean"
   ]
  },
  {
   "cell_type": "code",
   "execution_count": null,
   "metadata": {},
   "outputs": [],
   "source": [
    "combined['very_liberal_posterior_pct'] = posterior_mean * 100.0\n",
    "combined = combined.round(1)\n",
    "combined"
   ]
  },
  {
   "cell_type": "code",
   "execution_count": null,
   "metadata": {},
   "outputs": [],
   "source": [
    "p1 = sns.scatterplot('very_liberal_posterior_pct', 'vote_Obama_pct', data=combined)\n",
    "for line in range(0,combined.shape[0]):\n",
    "     p1.text(combined['very_liberal_posterior_pct'][line]+0.01, combined['vote_Obama_pct'][line], \n",
    "     combined['state'][line], horizontalalignment='left', \n",
    "     size='medium', color='black', weight='semibold')\n",
    "plt.xlim(0, 12.)\n",
    "plt.ylim(30, 70)\n",
    "plt.xlabel('very liberal posterior (%)')\n",
    "plt.ylabel('Obama vote (%)')\n",
    "plt.show()"
   ]
  }
 ],
 "metadata": {
  "language_info": {
   "codemirror_mode": {
    "name": "ipython",
    "version": 3
   },
   "file_extension": ".py",
   "mimetype": "text/x-python",
   "name": "python",
   "nbconvert_exporter": "python",
   "pygments_lexer": "ipython3",
   "version": "3.8.3-final"
  },
  "orig_nbformat": 2,
  "kernelspec": {
   "name": "python38364bitdeepprobprogcourseconda12a78745df2d458aa4729f55962e16cf",
   "display_name": "Python 3.8.3 64-bit ('deep-probprog-course': conda)"
  }
 },
 "nbformat": 4,
 "nbformat_minor": 2
}